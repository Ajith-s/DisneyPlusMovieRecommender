{
 "cells": [
  {
   "cell_type": "markdown",
   "metadata": {},
   "source": [
    "**Objective** \n",
    "* Understanding what content is available in different countries \n",
    "\n",
    "* Does Netflix has more focus on TV Shows than movies in recent years.\n",
    "\n",
    "* Identifying similar content by matching text-based features \n",
    "\n",
    "* Network analysis of Actors / Directors and find interesting insights\n"
   ]
  },
  {
   "cell_type": "code",
   "execution_count": 1,
   "metadata": {},
   "outputs": [],
   "source": [
    "import pandas as pd\n",
    "import numpy as np\n",
    "import matplotlib.pyplot as plt\n",
    "from datetime import datetime\n",
    "import seaborn as sns"
   ]
  },
  {
   "cell_type": "code",
   "execution_count": 110,
   "metadata": {
    "scrolled": true
   },
   "outputs": [
    {
     "name": "stdout",
     "output_type": "stream",
     "text": [
      "Looking in indexes: https://pypi.org/simple, https://nexus3.sqcorp.co/repository/pypi-square-general/simple\n",
      "\u001b[33mWARNING: Retrying (Retry(total=4, connect=None, read=None, redirect=None, status=None)) after connection broken by 'NewConnectionError('<pip._vendor.urllib3.connection.VerifiedHTTPSConnection object at 0x7fcc5827f550>: Failed to establish a new connection: [Errno 8] nodename nor servname provided, or not known')': /repository/pypi-square-general/simple/requests/\u001b[0m\n",
      "\u001b[33mWARNING: Retrying (Retry(total=3, connect=None, read=None, redirect=None, status=None)) after connection broken by 'NewConnectionError('<pip._vendor.urllib3.connection.VerifiedHTTPSConnection object at 0x7fcc58206e10>: Failed to establish a new connection: [Errno 8] nodename nor servname provided, or not known')': /repository/pypi-square-general/simple/requests/\u001b[0m\n",
      "\u001b[33mWARNING: Retrying (Retry(total=2, connect=None, read=None, redirect=None, status=None)) after connection broken by 'NewConnectionError('<pip._vendor.urllib3.connection.VerifiedHTTPSConnection object at 0x7fcc5828d110>: Failed to establish a new connection: [Errno 8] nodename nor servname provided, or not known')': /repository/pypi-square-general/simple/requests/\u001b[0m\n",
      "\u001b[33mWARNING: Retrying (Retry(total=1, connect=None, read=None, redirect=None, status=None)) after connection broken by 'NewConnectionError('<pip._vendor.urllib3.connection.VerifiedHTTPSConnection object at 0x7fcc5828d250>: Failed to establish a new connection: [Errno 8] nodename nor servname provided, or not known')': /repository/pypi-square-general/simple/requests/\u001b[0m\n",
      "\u001b[33mWARNING: Retrying (Retry(total=0, connect=None, read=None, redirect=None, status=None)) after connection broken by 'NewConnectionError('<pip._vendor.urllib3.connection.VerifiedHTTPSConnection object at 0x7fcc5828d210>: Failed to establish a new connection: [Errno 8] nodename nor servname provided, or not known')': /repository/pypi-square-general/simple/requests/\u001b[0m\n",
      "\u001b[33mWARNING: Retrying (Retry(total=4, connect=None, read=None, redirect=None, status=None)) after connection broken by 'NewConnectionError('<pip._vendor.urllib3.connection.VerifiedHTTPSConnection object at 0x7fcc5827fed0>: Failed to establish a new connection: [Errno 8] nodename nor servname provided, or not known')': /repository/pypi-square-general/simple/requests/\u001b[0m\n",
      "\u001b[33mWARNING: Retrying (Retry(total=3, connect=None, read=None, redirect=None, status=None)) after connection broken by 'NewConnectionError('<pip._vendor.urllib3.connection.VerifiedHTTPSConnection object at 0x7fcc68f4d750>: Failed to establish a new connection: [Errno 8] nodename nor servname provided, or not known')': /repository/pypi-square-general/simple/requests/\u001b[0m\n",
      "\u001b[33mWARNING: Retrying (Retry(total=2, connect=None, read=None, redirect=None, status=None)) after connection broken by 'NewConnectionError('<pip._vendor.urllib3.connection.VerifiedHTTPSConnection object at 0x7fcc68f4db10>: Failed to establish a new connection: [Errno 8] nodename nor servname provided, or not known')': /repository/pypi-square-general/simple/requests/\u001b[0m\n",
      "\u001b[33mWARNING: Retrying (Retry(total=1, connect=None, read=None, redirect=None, status=None)) after connection broken by 'NewConnectionError('<pip._vendor.urllib3.connection.VerifiedHTTPSConnection object at 0x7fcc68f56050>: Failed to establish a new connection: [Errno 8] nodename nor servname provided, or not known')': /repository/pypi-square-general/simple/requests/\u001b[0m\n",
      "\u001b[33mWARNING: Retrying (Retry(total=0, connect=None, read=None, redirect=None, status=None)) after connection broken by 'NewConnectionError('<pip._vendor.urllib3.connection.VerifiedHTTPSConnection object at 0x7fcc68f56190>: Failed to establish a new connection: [Errno 8] nodename nor servname provided, or not known')': /repository/pypi-square-general/simple/requests/\u001b[0m\n",
      "Collecting requests\n",
      "  Downloading requests-2.28.2-py3-none-any.whl (62 kB)\n",
      "\u001b[K     |████████████████████████████████| 62 kB 2.4 MB/s eta 0:00:011\n",
      "\u001b[?25hRequirement already satisfied, skipping upgrade: certifi>=2017.4.17 in /Users/ajiths/opt/anaconda3/lib/python3.7/site-packages (from requests) (2019.11.28)\n",
      "Requirement already satisfied, skipping upgrade: idna<4,>=2.5 in /Users/ajiths/opt/anaconda3/lib/python3.7/site-packages (from requests) (2.8)\n",
      "Requirement already satisfied, skipping upgrade: urllib3<1.27,>=1.21.1 in /Users/ajiths/opt/anaconda3/lib/python3.7/site-packages (from requests) (1.25.8)\n",
      "\u001b[33mWARNING: Retrying (Retry(total=4, connect=None, read=None, redirect=None, status=None)) after connection broken by 'NewConnectionError('<pip._vendor.urllib3.connection.VerifiedHTTPSConnection object at 0x7fcc183ae390>: Failed to establish a new connection: [Errno 8] nodename nor servname provided, or not known')': /repository/pypi-square-general/simple/charset-normalizer/\u001b[0m\n",
      "\u001b[33mWARNING: Retrying (Retry(total=3, connect=None, read=None, redirect=None, status=None)) after connection broken by 'NewConnectionError('<pip._vendor.urllib3.connection.VerifiedHTTPSConnection object at 0x7fcc183ae490>: Failed to establish a new connection: [Errno 8] nodename nor servname provided, or not known')': /repository/pypi-square-general/simple/charset-normalizer/\u001b[0m\n",
      "\u001b[33mWARNING: Retrying (Retry(total=2, connect=None, read=None, redirect=None, status=None)) after connection broken by 'NewConnectionError('<pip._vendor.urllib3.connection.VerifiedHTTPSConnection object at 0x7fcc183ae310>: Failed to establish a new connection: [Errno 8] nodename nor servname provided, or not known')': /repository/pypi-square-general/simple/charset-normalizer/\u001b[0m\n",
      "\u001b[33mWARNING: Retrying (Retry(total=1, connect=None, read=None, redirect=None, status=None)) after connection broken by 'NewConnectionError('<pip._vendor.urllib3.connection.VerifiedHTTPSConnection object at 0x7fcc183aef50>: Failed to establish a new connection: [Errno 8] nodename nor servname provided, or not known')': /repository/pypi-square-general/simple/charset-normalizer/\u001b[0m\n",
      "\u001b[33mWARNING: Retrying (Retry(total=0, connect=None, read=None, redirect=None, status=None)) after connection broken by 'NewConnectionError('<pip._vendor.urllib3.connection.VerifiedHTTPSConnection object at 0x7fcc183b4150>: Failed to establish a new connection: [Errno 8] nodename nor servname provided, or not known')': /repository/pypi-square-general/simple/charset-normalizer/\u001b[0m\n",
      "Collecting charset-normalizer<4,>=2\n",
      "  Downloading charset_normalizer-3.1.0-cp37-cp37m-macosx_10_9_x86_64.whl (121 kB)\n",
      "\u001b[K     |████████████████████████████████| 121 kB 8.3 MB/s eta 0:00:01\n",
      "\u001b[?25hInstalling collected packages: charset-normalizer, requests\n",
      "  Attempting uninstall: requests\n",
      "    Found existing installation: requests 2.22.0\n",
      "    Uninstalling requests-2.22.0:\n",
      "      Successfully uninstalled requests-2.22.0\n",
      "Successfully installed charset-normalizer-3.1.0 requests-2.28.2\n",
      "Note: you may need to restart the kernel to use updated packages.\n"
     ]
    }
   ],
   "source": [
    "pip install --upgrade requests"
   ]
  },
  {
   "cell_type": "code",
   "execution_count": 126,
   "metadata": {},
   "outputs": [],
   "source": [
    "import ssl\n",
    "ssl_context = ssl.create_default_context()\n",
    "ssl_context.set_ciphers('DEFAULT@SECLEVEL=1')"
   ]
  },
  {
   "cell_type": "code",
   "execution_count": 2,
   "metadata": {},
   "outputs": [],
   "source": [
    "raw_data = pd.read_csv('netflix_titles.csv')"
   ]
  },
  {
   "cell_type": "code",
   "execution_count": 3,
   "metadata": {},
   "outputs": [
    {
     "data": {
      "text/html": [
       "<div>\n",
       "<style scoped>\n",
       "    .dataframe tbody tr th:only-of-type {\n",
       "        vertical-align: middle;\n",
       "    }\n",
       "\n",
       "    .dataframe tbody tr th {\n",
       "        vertical-align: top;\n",
       "    }\n",
       "\n",
       "    .dataframe thead th {\n",
       "        text-align: right;\n",
       "    }\n",
       "</style>\n",
       "<table border=\"1\" class=\"dataframe\">\n",
       "  <thead>\n",
       "    <tr style=\"text-align: right;\">\n",
       "      <th></th>\n",
       "      <th>show_id</th>\n",
       "      <th>type</th>\n",
       "      <th>title</th>\n",
       "      <th>director</th>\n",
       "      <th>cast</th>\n",
       "      <th>country</th>\n",
       "      <th>date_added</th>\n",
       "      <th>release_year</th>\n",
       "      <th>rating</th>\n",
       "      <th>duration</th>\n",
       "      <th>listed_in</th>\n",
       "      <th>description</th>\n",
       "    </tr>\n",
       "  </thead>\n",
       "  <tbody>\n",
       "    <tr>\n",
       "      <th>0</th>\n",
       "      <td>s1</td>\n",
       "      <td>Movie</td>\n",
       "      <td>Dick Johnson Is Dead</td>\n",
       "      <td>Kirsten Johnson</td>\n",
       "      <td>NaN</td>\n",
       "      <td>United States</td>\n",
       "      <td>September 25, 2021</td>\n",
       "      <td>2020</td>\n",
       "      <td>PG-13</td>\n",
       "      <td>90 min</td>\n",
       "      <td>Documentaries</td>\n",
       "      <td>As her father nears the end of his life, filmm...</td>\n",
       "    </tr>\n",
       "    <tr>\n",
       "      <th>1</th>\n",
       "      <td>s2</td>\n",
       "      <td>TV Show</td>\n",
       "      <td>Blood &amp; Water</td>\n",
       "      <td>NaN</td>\n",
       "      <td>Ama Qamata, Khosi Ngema, Gail Mabalane, Thaban...</td>\n",
       "      <td>South Africa</td>\n",
       "      <td>September 24, 2021</td>\n",
       "      <td>2021</td>\n",
       "      <td>TV-MA</td>\n",
       "      <td>2 Seasons</td>\n",
       "      <td>International TV Shows, TV Dramas, TV Mysteries</td>\n",
       "      <td>After crossing paths at a party, a Cape Town t...</td>\n",
       "    </tr>\n",
       "    <tr>\n",
       "      <th>2</th>\n",
       "      <td>s3</td>\n",
       "      <td>TV Show</td>\n",
       "      <td>Ganglands</td>\n",
       "      <td>Julien Leclercq</td>\n",
       "      <td>Sami Bouajila, Tracy Gotoas, Samuel Jouy, Nabi...</td>\n",
       "      <td>NaN</td>\n",
       "      <td>September 24, 2021</td>\n",
       "      <td>2021</td>\n",
       "      <td>TV-MA</td>\n",
       "      <td>1 Season</td>\n",
       "      <td>Crime TV Shows, International TV Shows, TV Act...</td>\n",
       "      <td>To protect his family from a powerful drug lor...</td>\n",
       "    </tr>\n",
       "    <tr>\n",
       "      <th>3</th>\n",
       "      <td>s4</td>\n",
       "      <td>TV Show</td>\n",
       "      <td>Jailbirds New Orleans</td>\n",
       "      <td>NaN</td>\n",
       "      <td>NaN</td>\n",
       "      <td>NaN</td>\n",
       "      <td>September 24, 2021</td>\n",
       "      <td>2021</td>\n",
       "      <td>TV-MA</td>\n",
       "      <td>1 Season</td>\n",
       "      <td>Docuseries, Reality TV</td>\n",
       "      <td>Feuds, flirtations and toilet talk go down amo...</td>\n",
       "    </tr>\n",
       "    <tr>\n",
       "      <th>4</th>\n",
       "      <td>s5</td>\n",
       "      <td>TV Show</td>\n",
       "      <td>Kota Factory</td>\n",
       "      <td>NaN</td>\n",
       "      <td>Mayur More, Jitendra Kumar, Ranjan Raj, Alam K...</td>\n",
       "      <td>India</td>\n",
       "      <td>September 24, 2021</td>\n",
       "      <td>2021</td>\n",
       "      <td>TV-MA</td>\n",
       "      <td>2 Seasons</td>\n",
       "      <td>International TV Shows, Romantic TV Shows, TV ...</td>\n",
       "      <td>In a city of coaching centers known to train I...</td>\n",
       "    </tr>\n",
       "  </tbody>\n",
       "</table>\n",
       "</div>"
      ],
      "text/plain": [
       "  show_id     type                  title         director  \\\n",
       "0      s1    Movie   Dick Johnson Is Dead  Kirsten Johnson   \n",
       "1      s2  TV Show          Blood & Water              NaN   \n",
       "2      s3  TV Show              Ganglands  Julien Leclercq   \n",
       "3      s4  TV Show  Jailbirds New Orleans              NaN   \n",
       "4      s5  TV Show           Kota Factory              NaN   \n",
       "\n",
       "                                                cast        country  \\\n",
       "0                                                NaN  United States   \n",
       "1  Ama Qamata, Khosi Ngema, Gail Mabalane, Thaban...   South Africa   \n",
       "2  Sami Bouajila, Tracy Gotoas, Samuel Jouy, Nabi...            NaN   \n",
       "3                                                NaN            NaN   \n",
       "4  Mayur More, Jitendra Kumar, Ranjan Raj, Alam K...          India   \n",
       "\n",
       "           date_added  release_year rating   duration  \\\n",
       "0  September 25, 2021          2020  PG-13     90 min   \n",
       "1  September 24, 2021          2021  TV-MA  2 Seasons   \n",
       "2  September 24, 2021          2021  TV-MA   1 Season   \n",
       "3  September 24, 2021          2021  TV-MA   1 Season   \n",
       "4  September 24, 2021          2021  TV-MA  2 Seasons   \n",
       "\n",
       "                                           listed_in  \\\n",
       "0                                      Documentaries   \n",
       "1    International TV Shows, TV Dramas, TV Mysteries   \n",
       "2  Crime TV Shows, International TV Shows, TV Act...   \n",
       "3                             Docuseries, Reality TV   \n",
       "4  International TV Shows, Romantic TV Shows, TV ...   \n",
       "\n",
       "                                         description  \n",
       "0  As her father nears the end of his life, filmm...  \n",
       "1  After crossing paths at a party, a Cape Town t...  \n",
       "2  To protect his family from a powerful drug lor...  \n",
       "3  Feuds, flirtations and toilet talk go down amo...  \n",
       "4  In a city of coaching centers known to train I...  "
      ]
     },
     "execution_count": 3,
     "metadata": {},
     "output_type": "execute_result"
    }
   ],
   "source": [
    "raw_data.head()"
   ]
  },
  {
   "cell_type": "code",
   "execution_count": 4,
   "metadata": {},
   "outputs": [
    {
     "name": "stdout",
     "output_type": "stream",
     "text": [
      "<class 'pandas.core.frame.DataFrame'>\n",
      "RangeIndex: 8807 entries, 0 to 8806\n",
      "Data columns (total 12 columns):\n",
      " #   Column        Non-Null Count  Dtype \n",
      "---  ------        --------------  ----- \n",
      " 0   show_id       8807 non-null   object\n",
      " 1   type          8807 non-null   object\n",
      " 2   title         8807 non-null   object\n",
      " 3   director      6173 non-null   object\n",
      " 4   cast          7982 non-null   object\n",
      " 5   country       7976 non-null   object\n",
      " 6   date_added    8797 non-null   object\n",
      " 7   release_year  8807 non-null   int64 \n",
      " 8   rating        8803 non-null   object\n",
      " 9   duration      8804 non-null   object\n",
      " 10  listed_in     8807 non-null   object\n",
      " 11  description   8807 non-null   object\n",
      "dtypes: int64(1), object(11)\n",
      "memory usage: 825.8+ KB\n"
     ]
    }
   ],
   "source": [
    "raw_data.info()"
   ]
  },
  {
   "cell_type": "code",
   "execution_count": 5,
   "metadata": {},
   "outputs": [
    {
     "data": {
      "text/plain": [
       "8807"
      ]
     },
     "execution_count": 5,
     "metadata": {},
     "output_type": "execute_result"
    }
   ],
   "source": [
    "raw_data.show_id.nunique()"
   ]
  },
  {
   "cell_type": "code",
   "execution_count": null,
   "metadata": {},
   "outputs": [],
   "source": []
  },
  {
   "cell_type": "markdown",
   "metadata": {},
   "source": [
    "## Understanding what content is available in different countries "
   ]
  },
  {
   "cell_type": "code",
   "execution_count": 6,
   "metadata": {},
   "outputs": [
    {
     "data": {
      "text/plain": [
       "array(['Movie', 'TV Show'], dtype=object)"
      ]
     },
     "execution_count": 6,
     "metadata": {},
     "output_type": "execute_result"
    }
   ],
   "source": [
    "#Exploring the type column\n",
    "raw_data.type.unique()"
   ]
  },
  {
   "cell_type": "code",
   "execution_count": 7,
   "metadata": {},
   "outputs": [
    {
     "data": {
      "text/plain": [
       "748"
      ]
     },
     "execution_count": 7,
     "metadata": {},
     "output_type": "execute_result"
    }
   ],
   "source": [
    "#how many countries are there in the dataset\n",
    "raw_data.country.nunique()"
   ]
  },
  {
   "cell_type": "code",
   "execution_count": 8,
   "metadata": {
    "scrolled": true
   },
   "outputs": [
    {
     "data": {
      "text/plain": [
       "country\n",
       ", France, Algeria                                       1\n",
       ", South Korea                                           1\n",
       "Argentina                                              56\n",
       "Argentina, Brazil, France, Poland, Germany, Denmark     1\n",
       "Argentina, Chile                                        2\n",
       "                                                       ..\n",
       "Venezuela                                               1\n",
       "Venezuela, Colombia                                     1\n",
       "Vietnam                                                 7\n",
       "West Germany                                            1\n",
       "Zimbabwe                                                1\n",
       "Name: show_id, Length: 748, dtype: int64"
      ]
     },
     "execution_count": 8,
     "metadata": {},
     "output_type": "execute_result"
    }
   ],
   "source": [
    "raw_data.groupby(by=['country'])['show_id'].nunique()"
   ]
  },
  {
   "cell_type": "markdown",
   "metadata": {},
   "source": [
    "### Movies"
   ]
  },
  {
   "cell_type": "code",
   "execution_count": 9,
   "metadata": {},
   "outputs": [
    {
     "data": {
      "text/plain": [
       "<matplotlib.axes._subplots.AxesSubplot at 0x7fbfea21a810>"
      ]
     },
     "execution_count": 9,
     "metadata": {},
     "output_type": "execute_result"
    },
    {
     "data": {
      "image/png": "[encoded data removed]",
      "text/plain": [
       "<Figure size 432x288 with 1 Axes>"
      ]
     },
     "metadata": {
      "needs_background": "light"
     },
     "output_type": "display_data"
    }
   ],
   "source": [
    "#which are the top 10 countries for highest number of movies\n",
    "movies = raw_data.loc[raw_data['type']=='Movie']\n",
    "top_country_movie = movies.groupby(by='country',as_index = False).agg({\"show_id\":\"count\"})\n",
    "top_country_movie.rename(columns={\"show_id\":\"movie_count\"},inplace=True)\n",
    "top_country_movie.sort_values(by=\"movie_count\",ascending=False, inplace=True)\n",
    "top_15_countries = top_country_movie.head(15)\n",
    "top_15_countries.plot(kind='bar',x=\"country\",title=\"Top 15 NETFLIX movies\")"
   ]
  },
  {
   "cell_type": "markdown",
   "metadata": {},
   "source": [
    "### TV Shows"
   ]
  },
  {
   "cell_type": "code",
   "execution_count": 10,
   "metadata": {},
   "outputs": [
    {
     "data": {
      "text/plain": [
       "<matplotlib.axes._subplots.AxesSubplot at 0x7fbfd84c3ed0>"
      ]
     },
     "execution_count": 10,
     "metadata": {},
     "output_type": "execute_result"
    },
    {
     "data": {
      "image/png": "[encoded data removed]",
      "text/plain": [
       "<Figure size 432x288 with 1 Axes>"
      ]
     },
     "metadata": {
      "needs_background": "light"
     },
     "output_type": "display_data"
    }
   ],
   "source": [
    "#which are the top 10 countries for highest number of TV Shows\n",
    "tv_shows = raw_data.loc[raw_data['type']=='TV Show']\n",
    "top_country_tv_shows = tv_shows.groupby(by='country',as_index = False).agg({\"show_id\":\"count\"})\n",
    "top_country_tv_shows.rename(columns={\"show_id\":\"tv_count\"},inplace=True)\n",
    "top_country_tv_shows.sort_values(by=\"tv_count\",ascending=False, inplace=True)\n",
    "top_15_countries_tv_show = top_country_tv_shows.head(15)\n",
    "top_15_countries_tv_show.plot(kind='bar',x=\"country\",title=\"Top 15 NETFLIX TV Shows\")"
   ]
  },
  {
   "cell_type": "markdown",
   "metadata": {},
   "source": [
    "## Does Netflix has more focus on TV Shows than movies in recent years?"
   ]
  },
  {
   "cell_type": "code",
   "execution_count": 11,
   "metadata": {},
   "outputs": [
    {
     "data": {
      "text/html": [
       "<div>\n",
       "<style scoped>\n",
       "    .dataframe tbody tr th:only-of-type {\n",
       "        vertical-align: middle;\n",
       "    }\n",
       "\n",
       "    .dataframe tbody tr th {\n",
       "        vertical-align: top;\n",
       "    }\n",
       "\n",
       "    .dataframe thead th {\n",
       "        text-align: right;\n",
       "    }\n",
       "</style>\n",
       "<table border=\"1\" class=\"dataframe\">\n",
       "  <thead>\n",
       "    <tr style=\"text-align: right;\">\n",
       "      <th></th>\n",
       "      <th>show_id</th>\n",
       "    </tr>\n",
       "    <tr>\n",
       "      <th>date_added</th>\n",
       "      <th></th>\n",
       "    </tr>\n",
       "  </thead>\n",
       "  <tbody>\n",
       "    <tr>\n",
       "      <th>April 15, 2018</th>\n",
       "      <td>1</td>\n",
       "    </tr>\n",
       "    <tr>\n",
       "      <th>April 16, 2019</th>\n",
       "      <td>1</td>\n",
       "    </tr>\n",
       "    <tr>\n",
       "      <th>April 17, 2016</th>\n",
       "      <td>1</td>\n",
       "    </tr>\n",
       "    <tr>\n",
       "      <th>April 20, 2017</th>\n",
       "      <td>1</td>\n",
       "    </tr>\n",
       "    <tr>\n",
       "      <th>April 4, 2017</th>\n",
       "      <td>1</td>\n",
       "    </tr>\n",
       "    <tr>\n",
       "      <th>...</th>\n",
       "      <td>...</td>\n",
       "    </tr>\n",
       "    <tr>\n",
       "      <th>September 9, 2016</th>\n",
       "      <td>1</td>\n",
       "    </tr>\n",
       "    <tr>\n",
       "      <th>September 9, 2018</th>\n",
       "      <td>1</td>\n",
       "    </tr>\n",
       "    <tr>\n",
       "      <th>September 9, 2019</th>\n",
       "      <td>1</td>\n",
       "    </tr>\n",
       "    <tr>\n",
       "      <th>September 9, 2020</th>\n",
       "      <td>6</td>\n",
       "    </tr>\n",
       "    <tr>\n",
       "      <th>September 9, 2021</th>\n",
       "      <td>4</td>\n",
       "    </tr>\n",
       "  </tbody>\n",
       "</table>\n",
       "<p>1767 rows × 1 columns</p>\n",
       "</div>"
      ],
      "text/plain": [
       "                   show_id\n",
       "date_added                \n",
       " April 15, 2018          1\n",
       " April 16, 2019          1\n",
       " April 17, 2016          1\n",
       " April 20, 2017          1\n",
       " April 4, 2017           1\n",
       "...                    ...\n",
       "September 9, 2016        1\n",
       "September 9, 2018        1\n",
       "September 9, 2019        1\n",
       "September 9, 2020        6\n",
       "September 9, 2021        4\n",
       "\n",
       "[1767 rows x 1 columns]"
      ]
     },
     "execution_count": 11,
     "metadata": {},
     "output_type": "execute_result"
    }
   ],
   "source": [
    "#lets check the data before plotting\n",
    "raw_data.groupby(by='date_added').agg({\"show_id\":\"count\"})"
   ]
  },
  {
   "cell_type": "code",
   "execution_count": 12,
   "metadata": {},
   "outputs": [],
   "source": [
    "#changing the date_added column to timestamp from object\n",
    "raw_data['date_added'] = pd.to_datetime(raw_data['date_added'])"
   ]
  },
  {
   "cell_type": "code",
   "execution_count": 13,
   "metadata": {},
   "outputs": [],
   "source": [
    "time_agg = raw_data.groupby(by = [raw_data['date_added'].dt.to_period('Y'),raw_data['type']] ).agg({\"show_id\":\"count\"}).reset_index()"
   ]
  },
  {
   "cell_type": "code",
   "execution_count": 14,
   "metadata": {},
   "outputs": [
    {
     "data": {
      "text/plain": [
       "Text(0.5, 1.0, 'Counts over time')"
      ]
     },
     "execution_count": 14,
     "metadata": {},
     "output_type": "execute_result"
    },
    {
     "data": {
      "image/png": "[encoded data removed]",
      "text/plain": [
       "<Figure size 1440x576 with 1 Axes>"
      ]
     },
     "metadata": {
      "needs_background": "light"
     },
     "output_type": "display_data"
    }
   ],
   "source": [
    "plot_data = time_agg\n",
    "plot_data['year_added'] = plot_data['date_added'].astype(str)\n",
    "plt.figure(figsize=(20,8))\n",
    "sns.lineplot(x=\"year_added\",y=\"show_id\",hue=\"type\",data=plot_data)\n",
    "plt.ylabel(\"count\",size=18)\n",
    "plt.xlabel(\"Year Added\", size=18)\n",
    "plt.title(\"Counts over time\",size=25)\n"
   ]
  },
  {
   "cell_type": "markdown",
   "metadata": {},
   "source": [
    "### Netflix has not produced more TV shows than movies recently"
   ]
  },
  {
   "cell_type": "code",
   "execution_count": 15,
   "metadata": {
    "scrolled": true
   },
   "outputs": [
    {
     "data": {
      "text/plain": [
       "'As her father nears the end of his life, filmmaker Kirsten Johnson stages his death in inventive and comical ways to help them both face the inevitable.'"
      ]
     },
     "execution_count": 15,
     "metadata": {},
     "output_type": "execute_result"
    }
   ],
   "source": [
    "raw_data['description'][0]"
   ]
  },
  {
   "cell_type": "markdown",
   "metadata": {},
   "source": [
    "## Recommender System"
   ]
  },
  {
   "cell_type": "code",
   "execution_count": 16,
   "metadata": {
    "scrolled": true
   },
   "outputs": [
    {
     "data": {
      "text/plain": [
       "show_id            0\n",
       "type               0\n",
       "title              0\n",
       "director        2634\n",
       "cast             825\n",
       "country          831\n",
       "date_added        10\n",
       "release_year       0\n",
       "rating             4\n",
       "duration           3\n",
       "listed_in          0\n",
       "description        0\n",
       "dtype: int64"
      ]
     },
     "execution_count": 16,
     "metadata": {},
     "output_type": "execute_result"
    }
   ],
   "source": [
    "# Are there Nulls in the data?\n",
    "raw_data.isna().sum()"
   ]
  },
  {
   "cell_type": "code",
   "execution_count": 106,
   "metadata": {},
   "outputs": [],
   "source": [
    "# Let us replace NULLs by \"\"(blank) instead of deleting the rows since other\n",
    "# columns for the rown can help in recommendation\n",
    "cleaned_df = raw_data.fillna(\"\")"
   ]
  },
  {
   "cell_type": "markdown",
   "metadata": {},
   "source": [
    "#### The columns considered for recommendation are\n",
    "* type\n",
    "* country\n",
    "* release_year\n",
    "* rating\n",
    "* director\n",
    "* listed_in\n",
    "* description"
   ]
  },
  {
   "cell_type": "code",
   "execution_count": 18,
   "metadata": {},
   "outputs": [],
   "source": [
    "features = ['title','type','country','release_year','rating','director','listed_in','description']\n",
    "features_df = cleaned_df[features]"
   ]
  },
  {
   "cell_type": "code",
   "execution_count": 19,
   "metadata": {},
   "outputs": [
    {
     "data": {
      "text/html": [
       "<div>\n",
       "<style scoped>\n",
       "    .dataframe tbody tr th:only-of-type {\n",
       "        vertical-align: middle;\n",
       "    }\n",
       "\n",
       "    .dataframe tbody tr th {\n",
       "        vertical-align: top;\n",
       "    }\n",
       "\n",
       "    .dataframe thead th {\n",
       "        text-align: right;\n",
       "    }\n",
       "</style>\n",
       "<table border=\"1\" class=\"dataframe\">\n",
       "  <thead>\n",
       "    <tr style=\"text-align: right;\">\n",
       "      <th></th>\n",
       "      <th>title</th>\n",
       "      <th>type</th>\n",
       "      <th>country</th>\n",
       "      <th>release_year</th>\n",
       "      <th>rating</th>\n",
       "      <th>director</th>\n",
       "      <th>listed_in</th>\n",
       "      <th>description</th>\n",
       "    </tr>\n",
       "  </thead>\n",
       "  <tbody>\n",
       "    <tr>\n",
       "      <th>0</th>\n",
       "      <td>Dick Johnson Is Dead</td>\n",
       "      <td>Movie</td>\n",
       "      <td>United States</td>\n",
       "      <td>2020</td>\n",
       "      <td>PG-13</td>\n",
       "      <td>Kirsten Johnson</td>\n",
       "      <td>Documentaries</td>\n",
       "      <td>As her father nears the end of his life, filmm...</td>\n",
       "    </tr>\n",
       "    <tr>\n",
       "      <th>1</th>\n",
       "      <td>Blood &amp; Water</td>\n",
       "      <td>TV Show</td>\n",
       "      <td>South Africa</td>\n",
       "      <td>2021</td>\n",
       "      <td>TV-MA</td>\n",
       "      <td></td>\n",
       "      <td>International TV Shows, TV Dramas, TV Mysteries</td>\n",
       "      <td>After crossing paths at a party, a Cape Town t...</td>\n",
       "    </tr>\n",
       "    <tr>\n",
       "      <th>2</th>\n",
       "      <td>Ganglands</td>\n",
       "      <td>TV Show</td>\n",
       "      <td></td>\n",
       "      <td>2021</td>\n",
       "      <td>TV-MA</td>\n",
       "      <td>Julien Leclercq</td>\n",
       "      <td>Crime TV Shows, International TV Shows, TV Act...</td>\n",
       "      <td>To protect his family from a powerful drug lor...</td>\n",
       "    </tr>\n",
       "    <tr>\n",
       "      <th>3</th>\n",
       "      <td>Jailbirds New Orleans</td>\n",
       "      <td>TV Show</td>\n",
       "      <td></td>\n",
       "      <td>2021</td>\n",
       "      <td>TV-MA</td>\n",
       "      <td></td>\n",
       "      <td>Docuseries, Reality TV</td>\n",
       "      <td>Feuds, flirtations and toilet talk go down amo...</td>\n",
       "    </tr>\n",
       "    <tr>\n",
       "      <th>4</th>\n",
       "      <td>Kota Factory</td>\n",
       "      <td>TV Show</td>\n",
       "      <td>India</td>\n",
       "      <td>2021</td>\n",
       "      <td>TV-MA</td>\n",
       "      <td></td>\n",
       "      <td>International TV Shows, Romantic TV Shows, TV ...</td>\n",
       "      <td>In a city of coaching centers known to train I...</td>\n",
       "    </tr>\n",
       "  </tbody>\n",
       "</table>\n",
       "</div>"
      ],
      "text/plain": [
       "                   title     type        country  release_year rating  \\\n",
       "0   Dick Johnson Is Dead    Movie  United States          2020  PG-13   \n",
       "1          Blood & Water  TV Show   South Africa          2021  TV-MA   \n",
       "2              Ganglands  TV Show                         2021  TV-MA   \n",
       "3  Jailbirds New Orleans  TV Show                         2021  TV-MA   \n",
       "4           Kota Factory  TV Show          India          2021  TV-MA   \n",
       "\n",
       "          director                                          listed_in  \\\n",
       "0  Kirsten Johnson                                      Documentaries   \n",
       "1                     International TV Shows, TV Dramas, TV Mysteries   \n",
       "2  Julien Leclercq  Crime TV Shows, International TV Shows, TV Act...   \n",
       "3                                              Docuseries, Reality TV   \n",
       "4                   International TV Shows, Romantic TV Shows, TV ...   \n",
       "\n",
       "                                         description  \n",
       "0  As her father nears the end of his life, filmm...  \n",
       "1  After crossing paths at a party, a Cape Town t...  \n",
       "2  To protect his family from a powerful drug lor...  \n",
       "3  Feuds, flirtations and toilet talk go down amo...  \n",
       "4  In a city of coaching centers known to train I...  "
      ]
     },
     "execution_count": 19,
     "metadata": {},
     "output_type": "execute_result"
    }
   ],
   "source": [
    "features_df.head()"
   ]
  },
  {
   "cell_type": "markdown",
   "metadata": {},
   "source": [
    "#### Data Prep"
   ]
  },
  {
   "cell_type": "code",
   "execution_count": 20,
   "metadata": {},
   "outputs": [],
   "source": [
    "#Remove spaces and convert to lower\n",
    "def clean_data(x):\n",
    "    return str.lower(x.replace(\" \",\"\"))"
   ]
  },
  {
   "cell_type": "code",
   "execution_count": 21,
   "metadata": {
    "scrolled": true
   },
   "outputs": [
    {
     "name": "stderr",
     "output_type": "stream",
     "text": [
      "/Users/ajiths/opt/anaconda3/lib/python3.7/site-packages/ipykernel_launcher.py:2: SettingWithCopyWarning: \n",
      "A value is trying to be set on a copy of a slice from a DataFrame.\n",
      "Try using .loc[row_indexer,col_indexer] = value instead\n",
      "\n",
      "See the caveats in the documentation: https://pandas.pydata.org/pandas-docs/stable/user_guide/indexing.html#returning-a-view-versus-a-copy\n",
      "  \n",
      "/Users/ajiths/opt/anaconda3/lib/python3.7/site-packages/ipykernel_launcher.py:3: SettingWithCopyWarning: \n",
      "A value is trying to be set on a copy of a slice from a DataFrame.\n",
      "Try using .loc[row_indexer,col_indexer] = value instead\n",
      "\n",
      "See the caveats in the documentation: https://pandas.pydata.org/pandas-docs/stable/user_guide/indexing.html#returning-a-view-versus-a-copy\n",
      "  This is separate from the ipykernel package so we can avoid doing imports until\n"
     ]
    }
   ],
   "source": [
    "for feature in features:\n",
    "    features_df[feature] = features_df[feature].apply(str)\n",
    "    features_df[feature] = features_df[feature].apply(clean_data)\n",
    "    "
   ]
  },
  {
   "cell_type": "code",
   "execution_count": 22,
   "metadata": {
    "scrolled": true
   },
   "outputs": [
    {
     "data": {
      "text/html": [
       "<div>\n",
       "<style scoped>\n",
       "    .dataframe tbody tr th:only-of-type {\n",
       "        vertical-align: middle;\n",
       "    }\n",
       "\n",
       "    .dataframe tbody tr th {\n",
       "        vertical-align: top;\n",
       "    }\n",
       "\n",
       "    .dataframe thead th {\n",
       "        text-align: right;\n",
       "    }\n",
       "</style>\n",
       "<table border=\"1\" class=\"dataframe\">\n",
       "  <thead>\n",
       "    <tr style=\"text-align: right;\">\n",
       "      <th></th>\n",
       "      <th>title</th>\n",
       "      <th>type</th>\n",
       "      <th>country</th>\n",
       "      <th>release_year</th>\n",
       "      <th>rating</th>\n",
       "      <th>director</th>\n",
       "      <th>listed_in</th>\n",
       "      <th>description</th>\n",
       "    </tr>\n",
       "  </thead>\n",
       "  <tbody>\n",
       "    <tr>\n",
       "      <th>0</th>\n",
       "      <td>dickjohnsonisdead</td>\n",
       "      <td>movie</td>\n",
       "      <td>unitedstates</td>\n",
       "      <td>2020</td>\n",
       "      <td>pg-13</td>\n",
       "      <td>kirstenjohnson</td>\n",
       "      <td>documentaries</td>\n",
       "      <td>asherfathernearstheendofhislife,filmmakerkirst...</td>\n",
       "    </tr>\n",
       "    <tr>\n",
       "      <th>1</th>\n",
       "      <td>blood&amp;water</td>\n",
       "      <td>tvshow</td>\n",
       "      <td>southafrica</td>\n",
       "      <td>2021</td>\n",
       "      <td>tv-ma</td>\n",
       "      <td></td>\n",
       "      <td>internationaltvshows,tvdramas,tvmysteries</td>\n",
       "      <td>aftercrossingpathsataparty,acapetownteensetsou...</td>\n",
       "    </tr>\n",
       "    <tr>\n",
       "      <th>2</th>\n",
       "      <td>ganglands</td>\n",
       "      <td>tvshow</td>\n",
       "      <td></td>\n",
       "      <td>2021</td>\n",
       "      <td>tv-ma</td>\n",
       "      <td>julienleclercq</td>\n",
       "      <td>crimetvshows,internationaltvshows,tvaction&amp;adv...</td>\n",
       "      <td>toprotecthisfamilyfromapowerfuldruglord,skille...</td>\n",
       "    </tr>\n",
       "    <tr>\n",
       "      <th>3</th>\n",
       "      <td>jailbirdsneworleans</td>\n",
       "      <td>tvshow</td>\n",
       "      <td></td>\n",
       "      <td>2021</td>\n",
       "      <td>tv-ma</td>\n",
       "      <td></td>\n",
       "      <td>docuseries,realitytv</td>\n",
       "      <td>feuds,flirtationsandtoilettalkgodownamongthein...</td>\n",
       "    </tr>\n",
       "    <tr>\n",
       "      <th>4</th>\n",
       "      <td>kotafactory</td>\n",
       "      <td>tvshow</td>\n",
       "      <td>india</td>\n",
       "      <td>2021</td>\n",
       "      <td>tv-ma</td>\n",
       "      <td></td>\n",
       "      <td>internationaltvshows,romantictvshows,tvcomedies</td>\n",
       "      <td>inacityofcoachingcentersknowntotrainindia’sfin...</td>\n",
       "    </tr>\n",
       "  </tbody>\n",
       "</table>\n",
       "</div>"
      ],
      "text/plain": [
       "                 title    type       country release_year rating  \\\n",
       "0    dickjohnsonisdead   movie  unitedstates         2020  pg-13   \n",
       "1          blood&water  tvshow   southafrica         2021  tv-ma   \n",
       "2            ganglands  tvshow                       2021  tv-ma   \n",
       "3  jailbirdsneworleans  tvshow                       2021  tv-ma   \n",
       "4          kotafactory  tvshow         india         2021  tv-ma   \n",
       "\n",
       "         director                                          listed_in  \\\n",
       "0  kirstenjohnson                                      documentaries   \n",
       "1                          internationaltvshows,tvdramas,tvmysteries   \n",
       "2  julienleclercq  crimetvshows,internationaltvshows,tvaction&adv...   \n",
       "3                                               docuseries,realitytv   \n",
       "4                    internationaltvshows,romantictvshows,tvcomedies   \n",
       "\n",
       "                                         description  \n",
       "0  asherfathernearstheendofhislife,filmmakerkirst...  \n",
       "1  aftercrossingpathsataparty,acapetownteensetsou...  \n",
       "2  toprotecthisfamilyfromapowerfuldruglord,skille...  \n",
       "3  feuds,flirtationsandtoilettalkgodownamongthein...  \n",
       "4  inacityofcoachingcentersknowntotrainindia’sfin...  "
      ]
     },
     "execution_count": 22,
     "metadata": {},
     "output_type": "execute_result"
    }
   ],
   "source": [
    "features_df.head()"
   ]
  },
  {
   "cell_type": "code",
   "execution_count": 23,
   "metadata": {},
   "outputs": [],
   "source": [
    "from sklearn.feature_extraction.text import TfidfVectorizer\n",
    "from sklearn.metrics.pairwise import linear_kernel\n"
   ]
  },
  {
   "cell_type": "code",
   "execution_count": 24,
   "metadata": {},
   "outputs": [
    {
     "data": {
      "text/plain": [
       "(8807, 18895)"
      ]
     },
     "execution_count": 24,
     "metadata": {},
     "output_type": "execute_result"
    }
   ],
   "source": [
    "tfidf = TfidfVectorizer(stop_words='english')\n",
    "\n",
    "#Replace NaN with an empty string\n",
    "cleaned_df['description'] = cleaned_df['description'].fillna('')\n",
    "\n",
    "#Construct the required TF-IDF matrix by fitting and transforming the data\n",
    "tfidf_matrix = tfidf.fit_transform(cleaned_df['description'])\n",
    "\n",
    "cosine_sim = linear_kernel(tfidf_matrix, tfidf_matrix)\n",
    "#Output the shape of tfidf_matrix\n",
    "tfidf_matrix.shape"
   ]
  },
  {
   "cell_type": "code",
   "execution_count": 25,
   "metadata": {},
   "outputs": [],
   "source": [
    "import sklearn\n",
    "from sklearn.metrics.pairwise import linear_kernel\n",
    "from sklearn.feature_extraction.text import CountVectorizer\n",
    "from sklearn.metrics.pairwise import cosine_similarity"
   ]
  },
  {
   "cell_type": "markdown",
   "metadata": {},
   "source": [
    "Creating a \"bag of words\" for rows"
   ]
  },
  {
   "cell_type": "code",
   "execution_count": 26,
   "metadata": {},
   "outputs": [],
   "source": [
    "def create_soup(x):\n",
    "    return x['title']+' '+x['type']+' '+x['country']+' '+x['release_year']+' '+x['rating']+' '+x['director']+' '+x['listed_in']+' '+x['description']\n"
   ]
  },
  {
   "cell_type": "code",
   "execution_count": 27,
   "metadata": {
    "scrolled": true
   },
   "outputs": [
    {
     "name": "stderr",
     "output_type": "stream",
     "text": [
      "/Users/ajiths/opt/anaconda3/lib/python3.7/site-packages/ipykernel_launcher.py:1: SettingWithCopyWarning: \n",
      "A value is trying to be set on a copy of a slice from a DataFrame.\n",
      "Try using .loc[row_indexer,col_indexer] = value instead\n",
      "\n",
      "See the caveats in the documentation: https://pandas.pydata.org/pandas-docs/stable/user_guide/indexing.html#returning-a-view-versus-a-copy\n",
      "  \"\"\"Entry point for launching an IPython kernel.\n"
     ]
    }
   ],
   "source": [
    "features_df['soup'] = features_df.apply(create_soup,axis=1)"
   ]
  },
  {
   "cell_type": "code",
   "execution_count": 28,
   "metadata": {},
   "outputs": [],
   "source": [
    "count = CountVectorizer(stop_words='english')\n",
    "count_matrix = count.fit_transform(features_df['soup'])\n",
    "\n",
    "cosine_sim2 = cosine_similarity(count_matrix, count_matrix)"
   ]
  },
  {
   "cell_type": "code",
   "execution_count": 29,
   "metadata": {},
   "outputs": [],
   "source": [
    "features_df = features_df.reset_index()\n",
    "indices = pd.Series(features_df.index, index = features_df['title'])"
   ]
  },
  {
   "cell_type": "code",
   "execution_count": 30,
   "metadata": {},
   "outputs": [],
   "source": [
    "def get_recommendations(title, cosine_sim=cosine_sim):\n",
    "    title=title.replace(' ','').lower()\n",
    "    idx = indices[title]\n",
    "\n",
    "    # Get the pairwsie similarity scores of all movies with that movie\n",
    "    sim_scores = list(enumerate(cosine_sim[idx]))\n",
    "\n",
    "    # Sort the movies based on the similarity scores\n",
    "    sim_scores = sorted(sim_scores, key=lambda x: x[1], reverse=True)\n",
    "\n",
    "    # Get the scores of the 10 most similar movies\n",
    "    sim_scores = sim_scores[1:11]\n",
    "\n",
    "    # Get the movie indices\n",
    "    movie_indices = [i[0] for i in sim_scores]\n",
    "\n",
    "    # Return the top 10 most similar movies\n",
    "    return cleaned_df['title'].iloc[movie_indices]"
   ]
  },
  {
   "cell_type": "code",
   "execution_count": 31,
   "metadata": {},
   "outputs": [
    {
     "data": {
      "text/plain": [
       "397            Feels Like Ishq\n",
       "3463           College Romance\n",
       "571             Generation 56k\n",
       "1589        Bhaag Beanie Bhaag\n",
       "2917            Taj Mahal 1989\n",
       "3293             Little Things\n",
       "6265    Beauty and the Bitches\n",
       "847         Mad for Each Other\n",
       "3466              Girls Hostel\n",
       "6228         Bangkok Bachelors\n",
       "Name: title, dtype: object"
      ]
     },
     "execution_count": 31,
     "metadata": {},
     "output_type": "execute_result"
    }
   ],
   "source": [
    "get_recommendations('Kota Factory',cosine_sim2)"
   ]
  },
  {
   "cell_type": "code",
   "execution_count": 32,
   "metadata": {},
   "outputs": [
    {
     "data": {
      "text/plain": [
       "4                 Kota Factory\n",
       "571             Generation 56k\n",
       "6265    Beauty and the Bitches\n",
       "847         Mad for Each Other\n",
       "6228         Bangkok Bachelors\n",
       "6430           Castle of Stars\n",
       "242      Comedy Premium League\n",
       "287             I Need Romance\n",
       "577            Masameer County\n",
       "897          Use For My Talent\n",
       "Name: title, dtype: object"
      ]
     },
     "execution_count": 32,
     "metadata": {},
     "output_type": "execute_result"
    }
   ],
   "source": [
    "get_recommendations('Feels Like Ishq',cosine_sim2)"
   ]
  },
  {
   "cell_type": "code",
   "execution_count": 33,
   "metadata": {
    "scrolled": true
   },
   "outputs": [
    {
     "data": {
      "text/plain": [
       "397            Feels Like Ishq\n",
       "4                 Kota Factory\n",
       "6265    Beauty and the Bitches\n",
       "847         Mad for Each Other\n",
       "6228         Bangkok Bachelors\n",
       "6430           Castle of Stars\n",
       "242      Comedy Premium League\n",
       "287             I Need Romance\n",
       "577            Masameer County\n",
       "897          Use For My Talent\n",
       "Name: title, dtype: object"
      ]
     },
     "execution_count": 33,
     "metadata": {},
     "output_type": "execute_result"
    }
   ],
   "source": [
    "get_recommendations('Generation 56k',cosine_sim2)"
   ]
  },
  {
   "cell_type": "code",
   "execution_count": 34,
   "metadata": {
    "scrolled": false
   },
   "outputs": [
    {
     "data": {
      "text/plain": [
       "'Feuds, flirtations and toilet talk go down among the incarcerated women at the Orleans Justice Center in New Orleans on this gritty reality series.'"
      ]
     },
     "execution_count": 34,
     "metadata": {},
     "output_type": "execute_result"
    }
   ],
   "source": [
    "cleaned_df['description'][3]"
   ]
  },
  {
   "cell_type": "markdown",
   "metadata": {},
   "source": [
    "# Using ChatGPT to predict movie Genre"
   ]
  },
  {
   "cell_type": "code",
   "execution_count": 35,
   "metadata": {
    "scrolled": true
   },
   "outputs": [
    {
     "name": "stdout",
     "output_type": "stream",
     "text": [
      "Looking in indexes: https://pypi.org/simple, https://nexus3.sqcorp.co/repository/pypi-square-general/simple\n",
      "Requirement already satisfied: requests in /Users/ajiths/opt/anaconda3/lib/python3.7/site-packages (2.22.0)\n",
      "Requirement already satisfied: idna<2.9,>=2.5 in /Users/ajiths/opt/anaconda3/lib/python3.7/site-packages (from requests) (2.8)\n",
      "Requirement already satisfied: urllib3!=1.25.0,!=1.25.1,<1.26,>=1.21.1 in /Users/ajiths/opt/anaconda3/lib/python3.7/site-packages (from requests) (1.25.8)\n",
      "Requirement already satisfied: chardet<3.1.0,>=3.0.2 in /Users/ajiths/opt/anaconda3/lib/python3.7/site-packages (from requests) (3.0.4)\n",
      "Requirement already satisfied: certifi>=2017.4.17 in /Users/ajiths/opt/anaconda3/lib/python3.7/site-packages (from requests) (2019.11.28)\n",
      "Note: you may need to restart the kernel to use updated packages.\n"
     ]
    }
   ],
   "source": [
    "pip install requests\n"
   ]
  },
  {
   "cell_type": "code",
   "execution_count": 36,
   "metadata": {},
   "outputs": [],
   "source": [
    "import requests"
   ]
  },
  {
   "cell_type": "code",
   "execution_count": 143,
   "metadata": {},
   "outputs": [],
   "source": [
    "def chatGPT(text):\n",
    "  model_engine = \"text-davinci-003\"\n",
    "  endpoint = f\"https://api.openai.com/v1/engines/{model_engine}/completions\"\n",
    "\n",
    "  headers = {\n",
    "  \"Content-Type\": \"application/json\",\n",
    "  \"Authorization\": \"Bearer\", #key hidden\n",
    "  }\n",
    "  data = { \n",
    "  \"prompt\": \"Predict the genre based on decription. The response has to be a less than two words and return only genre\",\n",
    "  \"max_tokens\": 100,\n",
    "  \"temperature\": 0.2,\n",
    "  }\n",
    "    \n",
    "  data[\"prompt\"] += f\"\\nInput Text: {text}\"\n",
    "  \n",
    "\n",
    "  response = requests.post(endpoint, headers=headers, json=data)\n",
    "  output = \"\"\n",
    "\n",
    "  if \"choices\" in response.json():\n",
    "     output = response.json()[\"choices\"][0][\"text\"].strip(\" \\n\")\n",
    "\n",
    "  return output"
   ]
  },
  {
   "cell_type": "markdown",
   "metadata": {},
   "source": [
    "#### Restricting to 4000 rows for using free version"
   ]
  },
  {
   "cell_type": "code",
   "execution_count": 128,
   "metadata": {},
   "outputs": [],
   "source": [
    "trunc_df = cleaned_df.iloc[:4000]"
   ]
  },
  {
   "cell_type": "markdown",
   "metadata": {},
   "source": [
    "##### validating the response"
   ]
  },
  {
   "cell_type": "code",
   "execution_count": 136,
   "metadata": {
    "scrolled": true
   },
   "outputs": [
    {
     "data": {
      "text/plain": [
       "'Adventure Fantasy'"
      ]
     },
     "execution_count": 136,
     "metadata": {},
     "output_type": "execute_result"
    }
   ],
   "source": [
    "chatGPT(trunc_df.loc[60,'description'])"
   ]
  },
  {
   "cell_type": "code",
   "execution_count": 137,
   "metadata": {
    "scrolled": true
   },
   "outputs": [
    {
     "data": {
      "text/plain": [
       "'When Naruto is sent to recover a missing nin, the rogue manages to send him 20 years into the past, where he unites with his father to battle evil.'"
      ]
     },
     "execution_count": 137,
     "metadata": {},
     "output_type": "execute_result"
    }
   ],
   "source": [
    "trunc_df.loc[60,'description']"
   ]
  },
  {
   "cell_type": "markdown",
   "metadata": {},
   "source": [
    "##### Apply to all the TV shows and movies"
   ]
  },
  {
   "cell_type": "code",
   "execution_count": 138,
   "metadata": {},
   "outputs": [
    {
     "name": "stderr",
     "output_type": "stream",
     "text": [
      "/Users/ajiths/opt/anaconda3/lib/python3.7/site-packages/pandas/core/indexing.py:844: SettingWithCopyWarning: \n",
      "A value is trying to be set on a copy of a slice from a DataFrame.\n",
      "Try using .loc[row_indexer,col_indexer] = value instead\n",
      "\n",
      "See the caveats in the documentation: https://pandas.pydata.org/pandas-docs/stable/user_guide/indexing.html#returning-a-view-versus-a-copy\n",
      "  self.obj[key] = _infer_fill_value(value)\n",
      "/Users/ajiths/opt/anaconda3/lib/python3.7/site-packages/pandas/core/indexing.py:965: SettingWithCopyWarning: \n",
      "A value is trying to be set on a copy of a slice from a DataFrame.\n",
      "Try using .loc[row_indexer,col_indexer] = value instead\n",
      "\n",
      "See the caveats in the documentation: https://pandas.pydata.org/pandas-docs/stable/user_guide/indexing.html#returning-a-view-versus-a-copy\n",
      "  self.obj[item] = s\n"
     ]
    }
   ],
   "source": [
    "trunc_df.loc[:, 'genre'] = trunc_df.apply(lambda row:chatGPT(row['description']),axis=1)"
   ]
  },
  {
   "cell_type": "code",
   "execution_count": 142,
   "metadata": {},
   "outputs": [
    {
     "data": {
      "text/html": [
       "<div>\n",
       "<style scoped>\n",
       "    .dataframe tbody tr th:only-of-type {\n",
       "        vertical-align: middle;\n",
       "    }\n",
       "\n",
       "    .dataframe tbody tr th {\n",
       "        vertical-align: top;\n",
       "    }\n",
       "\n",
       "    .dataframe thead th {\n",
       "        text-align: right;\n",
       "    }\n",
       "</style>\n",
       "<table border=\"1\" class=\"dataframe\">\n",
       "  <thead>\n",
       "    <tr style=\"text-align: right;\">\n",
       "      <th></th>\n",
       "      <th>show_id</th>\n",
       "      <th>type</th>\n",
       "      <th>title</th>\n",
       "      <th>director</th>\n",
       "      <th>cast</th>\n",
       "      <th>country</th>\n",
       "      <th>date_added</th>\n",
       "      <th>release_year</th>\n",
       "      <th>rating</th>\n",
       "      <th>duration</th>\n",
       "      <th>listed_in</th>\n",
       "      <th>description</th>\n",
       "      <th>genre</th>\n",
       "    </tr>\n",
       "  </thead>\n",
       "  <tbody>\n",
       "    <tr>\n",
       "      <th>0</th>\n",
       "      <td>s1</td>\n",
       "      <td>Movie</td>\n",
       "      <td>Dick Johnson Is Dead</td>\n",
       "      <td>Kirsten Johnson</td>\n",
       "      <td></td>\n",
       "      <td>United States</td>\n",
       "      <td>2021-09-25 00:00:00</td>\n",
       "      <td>2020</td>\n",
       "      <td>PG-13</td>\n",
       "      <td>90 min</td>\n",
       "      <td>Documentaries</td>\n",
       "      <td>As her father nears the end of his life, filmm...</td>\n",
       "      <td>Comedy Drama</td>\n",
       "    </tr>\n",
       "    <tr>\n",
       "      <th>1</th>\n",
       "      <td>s2</td>\n",
       "      <td>TV Show</td>\n",
       "      <td>Blood &amp; Water</td>\n",
       "      <td></td>\n",
       "      <td>Ama Qamata, Khosi Ngema, Gail Mabalane, Thaban...</td>\n",
       "      <td>South Africa</td>\n",
       "      <td>2021-09-24 00:00:00</td>\n",
       "      <td>2021</td>\n",
       "      <td>TV-MA</td>\n",
       "      <td>2 Seasons</td>\n",
       "      <td>International TV Shows, TV Dramas, TV Mysteries</td>\n",
       "      <td>After crossing paths at a party, a Cape Town t...</td>\n",
       "      <td>Drama/Mystery</td>\n",
       "    </tr>\n",
       "    <tr>\n",
       "      <th>2</th>\n",
       "      <td>s3</td>\n",
       "      <td>TV Show</td>\n",
       "      <td>Ganglands</td>\n",
       "      <td>Julien Leclercq</td>\n",
       "      <td>Sami Bouajila, Tracy Gotoas, Samuel Jouy, Nabi...</td>\n",
       "      <td></td>\n",
       "      <td>2021-09-24 00:00:00</td>\n",
       "      <td>2021</td>\n",
       "      <td>TV-MA</td>\n",
       "      <td>1 Season</td>\n",
       "      <td>Crime TV Shows, International TV Shows, TV Act...</td>\n",
       "      <td>To protect his family from a powerful drug lor...</td>\n",
       "      <td>Action Thriller</td>\n",
       "    </tr>\n",
       "    <tr>\n",
       "      <th>3</th>\n",
       "      <td>s4</td>\n",
       "      <td>TV Show</td>\n",
       "      <td>Jailbirds New Orleans</td>\n",
       "      <td></td>\n",
       "      <td></td>\n",
       "      <td></td>\n",
       "      <td>2021-09-24 00:00:00</td>\n",
       "      <td>2021</td>\n",
       "      <td>TV-MA</td>\n",
       "      <td>1 Season</td>\n",
       "      <td>Docuseries, Reality TV</td>\n",
       "      <td>Feuds, flirtations and toilet talk go down amo...</td>\n",
       "      <td>Reality TV</td>\n",
       "    </tr>\n",
       "    <tr>\n",
       "      <th>4</th>\n",
       "      <td>s5</td>\n",
       "      <td>TV Show</td>\n",
       "      <td>Kota Factory</td>\n",
       "      <td></td>\n",
       "      <td>Mayur More, Jitendra Kumar, Ranjan Raj, Alam K...</td>\n",
       "      <td>India</td>\n",
       "      <td>2021-09-24 00:00:00</td>\n",
       "      <td>2021</td>\n",
       "      <td>TV-MA</td>\n",
       "      <td>2 Seasons</td>\n",
       "      <td>International TV Shows, Romantic TV Shows, TV ...</td>\n",
       "      <td>In a city of coaching centers known to train I...</td>\n",
       "      <td>Comedy Drama</td>\n",
       "    </tr>\n",
       "    <tr>\n",
       "      <th>5</th>\n",
       "      <td>s6</td>\n",
       "      <td>TV Show</td>\n",
       "      <td>Midnight Mass</td>\n",
       "      <td>Mike Flanagan</td>\n",
       "      <td>Kate Siegel, Zach Gilford, Hamish Linklater, H...</td>\n",
       "      <td></td>\n",
       "      <td>2021-09-24 00:00:00</td>\n",
       "      <td>2021</td>\n",
       "      <td>TV-MA</td>\n",
       "      <td>1 Season</td>\n",
       "      <td>TV Dramas, TV Horror, TV Mysteries</td>\n",
       "      <td>The arrival of a charismatic young priest brin...</td>\n",
       "      <td>Religious Drama</td>\n",
       "    </tr>\n",
       "    <tr>\n",
       "      <th>6</th>\n",
       "      <td>s7</td>\n",
       "      <td>Movie</td>\n",
       "      <td>My Little Pony: A New Generation</td>\n",
       "      <td>Robert Cullen, José Luis Ucha</td>\n",
       "      <td>Vanessa Hudgens, Kimiko Glenn, James Marsden, ...</td>\n",
       "      <td></td>\n",
       "      <td>2021-09-24 00:00:00</td>\n",
       "      <td>2021</td>\n",
       "      <td>PG</td>\n",
       "      <td>91 min</td>\n",
       "      <td>Children &amp; Family Movies</td>\n",
       "      <td>Equestria's divided. But a bright-eyed hero be...</td>\n",
       "      <td>Answer: Fantasy Adventure</td>\n",
       "    </tr>\n",
       "    <tr>\n",
       "      <th>7</th>\n",
       "      <td>s8</td>\n",
       "      <td>Movie</td>\n",
       "      <td>Sankofa</td>\n",
       "      <td>Haile Gerima</td>\n",
       "      <td>Kofi Ghanaba, Oyafunmike Ogunlano, Alexandra D...</td>\n",
       "      <td>United States, Ghana, Burkina Faso, United Kin...</td>\n",
       "      <td>2021-09-24 00:00:00</td>\n",
       "      <td>1993</td>\n",
       "      <td>TV-MA</td>\n",
       "      <td>125 min</td>\n",
       "      <td>Dramas, Independent Movies, International Movies</td>\n",
       "      <td>On a photo shoot in Ghana, an American model s...</td>\n",
       "      <td>Historical Drama</td>\n",
       "    </tr>\n",
       "    <tr>\n",
       "      <th>8</th>\n",
       "      <td>s9</td>\n",
       "      <td>TV Show</td>\n",
       "      <td>The Great British Baking Show</td>\n",
       "      <td>Andy Devonshire</td>\n",
       "      <td>Mel Giedroyc, Sue Perkins, Mary Berry, Paul Ho...</td>\n",
       "      <td>United Kingdom</td>\n",
       "      <td>2021-09-24 00:00:00</td>\n",
       "      <td>2021</td>\n",
       "      <td>TV-14</td>\n",
       "      <td>9 Seasons</td>\n",
       "      <td>British TV Shows, Reality TV</td>\n",
       "      <td>A talented batch of amateur bakers face off in...</td>\n",
       "      <td>Answer: Reality TV</td>\n",
       "    </tr>\n",
       "    <tr>\n",
       "      <th>9</th>\n",
       "      <td>s10</td>\n",
       "      <td>Movie</td>\n",
       "      <td>The Starling</td>\n",
       "      <td>Theodore Melfi</td>\n",
       "      <td>Melissa McCarthy, Chris O'Dowd, Kevin Kline, T...</td>\n",
       "      <td>United States</td>\n",
       "      <td>2021-09-24 00:00:00</td>\n",
       "      <td>2021</td>\n",
       "      <td>PG-13</td>\n",
       "      <td>104 min</td>\n",
       "      <td>Comedies, Dramas</td>\n",
       "      <td>A woman adjusting to life after a loss contend...</td>\n",
       "      <td>Drama.</td>\n",
       "    </tr>\n",
       "    <tr>\n",
       "      <th>10</th>\n",
       "      <td>s11</td>\n",
       "      <td>TV Show</td>\n",
       "      <td>Vendetta: Truth, Lies and The Mafia</td>\n",
       "      <td></td>\n",
       "      <td></td>\n",
       "      <td></td>\n",
       "      <td>2021-09-24 00:00:00</td>\n",
       "      <td>2021</td>\n",
       "      <td>TV-MA</td>\n",
       "      <td>1 Season</td>\n",
       "      <td>Crime TV Shows, Docuseries, International TV S...</td>\n",
       "      <td>Sicily boasts a bold \"Anti-Mafia\" coalition. B...</td>\n",
       "      <td>Crime Drama</td>\n",
       "    </tr>\n",
       "    <tr>\n",
       "      <th>11</th>\n",
       "      <td>s12</td>\n",
       "      <td>TV Show</td>\n",
       "      <td>Bangkok Breaking</td>\n",
       "      <td>Kongkiat Komesiri</td>\n",
       "      <td>Sukollawat Kanarot, Sushar Manaying, Pavarit M...</td>\n",
       "      <td></td>\n",
       "      <td>2021-09-23 00:00:00</td>\n",
       "      <td>2021</td>\n",
       "      <td>TV-MA</td>\n",
       "      <td>1 Season</td>\n",
       "      <td>Crime TV Shows, International TV Shows, TV Act...</td>\n",
       "      <td>Struggling to earn a living in Bangkok, a man ...</td>\n",
       "      <td>Thriller.</td>\n",
       "    </tr>\n",
       "  </tbody>\n",
       "</table>\n",
       "</div>"
      ],
      "text/plain": [
       "   show_id     type                                title  \\\n",
       "0       s1    Movie                 Dick Johnson Is Dead   \n",
       "1       s2  TV Show                        Blood & Water   \n",
       "2       s3  TV Show                            Ganglands   \n",
       "3       s4  TV Show                Jailbirds New Orleans   \n",
       "4       s5  TV Show                         Kota Factory   \n",
       "5       s6  TV Show                        Midnight Mass   \n",
       "6       s7    Movie     My Little Pony: A New Generation   \n",
       "7       s8    Movie                              Sankofa   \n",
       "8       s9  TV Show        The Great British Baking Show   \n",
       "9      s10    Movie                         The Starling   \n",
       "10     s11  TV Show  Vendetta: Truth, Lies and The Mafia   \n",
       "11     s12  TV Show                     Bangkok Breaking   \n",
       "\n",
       "                         director  \\\n",
       "0                 Kirsten Johnson   \n",
       "1                                   \n",
       "2                 Julien Leclercq   \n",
       "3                                   \n",
       "4                                   \n",
       "5                   Mike Flanagan   \n",
       "6   Robert Cullen, José Luis Ucha   \n",
       "7                    Haile Gerima   \n",
       "8                 Andy Devonshire   \n",
       "9                  Theodore Melfi   \n",
       "10                                  \n",
       "11              Kongkiat Komesiri   \n",
       "\n",
       "                                                 cast  \\\n",
       "0                                                       \n",
       "1   Ama Qamata, Khosi Ngema, Gail Mabalane, Thaban...   \n",
       "2   Sami Bouajila, Tracy Gotoas, Samuel Jouy, Nabi...   \n",
       "3                                                       \n",
       "4   Mayur More, Jitendra Kumar, Ranjan Raj, Alam K...   \n",
       "5   Kate Siegel, Zach Gilford, Hamish Linklater, H...   \n",
       "6   Vanessa Hudgens, Kimiko Glenn, James Marsden, ...   \n",
       "7   Kofi Ghanaba, Oyafunmike Ogunlano, Alexandra D...   \n",
       "8   Mel Giedroyc, Sue Perkins, Mary Berry, Paul Ho...   \n",
       "9   Melissa McCarthy, Chris O'Dowd, Kevin Kline, T...   \n",
       "10                                                      \n",
       "11  Sukollawat Kanarot, Sushar Manaying, Pavarit M...   \n",
       "\n",
       "                                              country           date_added  \\\n",
       "0                                       United States  2021-09-25 00:00:00   \n",
       "1                                        South Africa  2021-09-24 00:00:00   \n",
       "2                                                      2021-09-24 00:00:00   \n",
       "3                                                      2021-09-24 00:00:00   \n",
       "4                                               India  2021-09-24 00:00:00   \n",
       "5                                                      2021-09-24 00:00:00   \n",
       "6                                                      2021-09-24 00:00:00   \n",
       "7   United States, Ghana, Burkina Faso, United Kin...  2021-09-24 00:00:00   \n",
       "8                                      United Kingdom  2021-09-24 00:00:00   \n",
       "9                                       United States  2021-09-24 00:00:00   \n",
       "10                                                     2021-09-24 00:00:00   \n",
       "11                                                     2021-09-23 00:00:00   \n",
       "\n",
       "    release_year rating   duration  \\\n",
       "0           2020  PG-13     90 min   \n",
       "1           2021  TV-MA  2 Seasons   \n",
       "2           2021  TV-MA   1 Season   \n",
       "3           2021  TV-MA   1 Season   \n",
       "4           2021  TV-MA  2 Seasons   \n",
       "5           2021  TV-MA   1 Season   \n",
       "6           2021     PG     91 min   \n",
       "7           1993  TV-MA    125 min   \n",
       "8           2021  TV-14  9 Seasons   \n",
       "9           2021  PG-13    104 min   \n",
       "10          2021  TV-MA   1 Season   \n",
       "11          2021  TV-MA   1 Season   \n",
       "\n",
       "                                            listed_in  \\\n",
       "0                                       Documentaries   \n",
       "1     International TV Shows, TV Dramas, TV Mysteries   \n",
       "2   Crime TV Shows, International TV Shows, TV Act...   \n",
       "3                              Docuseries, Reality TV   \n",
       "4   International TV Shows, Romantic TV Shows, TV ...   \n",
       "5                  TV Dramas, TV Horror, TV Mysteries   \n",
       "6                            Children & Family Movies   \n",
       "7    Dramas, Independent Movies, International Movies   \n",
       "8                        British TV Shows, Reality TV   \n",
       "9                                    Comedies, Dramas   \n",
       "10  Crime TV Shows, Docuseries, International TV S...   \n",
       "11  Crime TV Shows, International TV Shows, TV Act...   \n",
       "\n",
       "                                          description  \\\n",
       "0   As her father nears the end of his life, filmm...   \n",
       "1   After crossing paths at a party, a Cape Town t...   \n",
       "2   To protect his family from a powerful drug lor...   \n",
       "3   Feuds, flirtations and toilet talk go down amo...   \n",
       "4   In a city of coaching centers known to train I...   \n",
       "5   The arrival of a charismatic young priest brin...   \n",
       "6   Equestria's divided. But a bright-eyed hero be...   \n",
       "7   On a photo shoot in Ghana, an American model s...   \n",
       "8   A talented batch of amateur bakers face off in...   \n",
       "9   A woman adjusting to life after a loss contend...   \n",
       "10  Sicily boasts a bold \"Anti-Mafia\" coalition. B...   \n",
       "11  Struggling to earn a living in Bangkok, a man ...   \n",
       "\n",
       "                        genre  \n",
       "0                Comedy Drama  \n",
       "1               Drama/Mystery  \n",
       "2             Action Thriller  \n",
       "3                  Reality TV  \n",
       "4                Comedy Drama  \n",
       "5             Religious Drama  \n",
       "6   Answer: Fantasy Adventure  \n",
       "7            Historical Drama  \n",
       "8          Answer: Reality TV  \n",
       "9                      Drama.  \n",
       "10                Crime Drama  \n",
       "11                  Thriller.  "
      ]
     },
     "execution_count": 142,
     "metadata": {},
     "output_type": "execute_result"
    }
   ],
   "source": [
    "trunc_df.iloc[0:12]"
   ]
  },
  {
   "cell_type": "code",
   "execution_count": 144,
   "metadata": {},
   "outputs": [
    {
     "data": {
      "text/html": [
       "<div>\n",
       "<style scoped>\n",
       "    .dataframe tbody tr th:only-of-type {\n",
       "        vertical-align: middle;\n",
       "    }\n",
       "\n",
       "    .dataframe tbody tr th {\n",
       "        vertical-align: top;\n",
       "    }\n",
       "\n",
       "    .dataframe thead th {\n",
       "        text-align: right;\n",
       "    }\n",
       "</style>\n",
       "<table border=\"1\" class=\"dataframe\">\n",
       "  <thead>\n",
       "    <tr style=\"text-align: right;\">\n",
       "      <th></th>\n",
       "      <th>show_id</th>\n",
       "      <th>type</th>\n",
       "      <th>title</th>\n",
       "      <th>director</th>\n",
       "      <th>cast</th>\n",
       "      <th>country</th>\n",
       "      <th>date_added</th>\n",
       "      <th>release_year</th>\n",
       "      <th>rating</th>\n",
       "      <th>duration</th>\n",
       "      <th>listed_in</th>\n",
       "      <th>description</th>\n",
       "      <th>genre</th>\n",
       "    </tr>\n",
       "  </thead>\n",
       "  <tbody>\n",
       "    <tr>\n",
       "      <th>220</th>\n",
       "      <td>s221</td>\n",
       "      <td>TV Show</td>\n",
       "      <td>Family Reunion</td>\n",
       "      <td></td>\n",
       "      <td>Loretta Devine, Tia Mowry-Hardrict, Anthony Al...</td>\n",
       "      <td>United States</td>\n",
       "      <td>2021-08-26 00:00:00</td>\n",
       "      <td>2021</td>\n",
       "      <td>TV-PG</td>\n",
       "      <td>4 Seasons</td>\n",
       "      <td>Kids' TV, TV Comedies</td>\n",
       "      <td>When the McKellan family moves from Seattle to...</td>\n",
       "      <td></td>\n",
       "    </tr>\n",
       "    <tr>\n",
       "      <th>221</th>\n",
       "      <td>s222</td>\n",
       "      <td>Movie</td>\n",
       "      <td>Bob Ross: Happy Accidents, Betrayal &amp; Greed</td>\n",
       "      <td>Joshua Rofé</td>\n",
       "      <td>Bob Ross</td>\n",
       "      <td></td>\n",
       "      <td>2021-08-25 00:00:00</td>\n",
       "      <td>2021</td>\n",
       "      <td>TV-14</td>\n",
       "      <td>93 min</td>\n",
       "      <td>Documentaries</td>\n",
       "      <td>Bob Ross brought joy to millions as the world’...</td>\n",
       "      <td></td>\n",
       "    </tr>\n",
       "    <tr>\n",
       "      <th>222</th>\n",
       "      <td>s223</td>\n",
       "      <td>TV Show</td>\n",
       "      <td>Clickbait</td>\n",
       "      <td>Brad Anderson</td>\n",
       "      <td>Zoe Kazan, Betty Gabriel, Adrian Grenier, Phoe...</td>\n",
       "      <td></td>\n",
       "      <td>2021-08-25 00:00:00</td>\n",
       "      <td>2021</td>\n",
       "      <td>TV-MA</td>\n",
       "      <td>1 Season</td>\n",
       "      <td>Crime TV Shows, TV Dramas, TV Mysteries</td>\n",
       "      <td>When family man Nick Brewer is abducted in a c...</td>\n",
       "      <td></td>\n",
       "    </tr>\n",
       "    <tr>\n",
       "      <th>223</th>\n",
       "      <td>s224</td>\n",
       "      <td>TV Show</td>\n",
       "      <td>John of God: The Crimes of a Spiritual Healer</td>\n",
       "      <td>Mauricio Dias, Tatiana Villela</td>\n",
       "      <td></td>\n",
       "      <td></td>\n",
       "      <td>2021-08-25 00:00:00</td>\n",
       "      <td>2021</td>\n",
       "      <td>TV-MA</td>\n",
       "      <td>1 Season</td>\n",
       "      <td>Crime TV Shows, Docuseries, International TV S...</td>\n",
       "      <td>Idolized medium João Teixeira de Faria rises t...</td>\n",
       "      <td></td>\n",
       "    </tr>\n",
       "    <tr>\n",
       "      <th>224</th>\n",
       "      <td>s225</td>\n",
       "      <td>TV Show</td>\n",
       "      <td>Motel Makeover</td>\n",
       "      <td></td>\n",
       "      <td></td>\n",
       "      <td></td>\n",
       "      <td>2021-08-25 00:00:00</td>\n",
       "      <td>2021</td>\n",
       "      <td>TV-14</td>\n",
       "      <td>1 Season</td>\n",
       "      <td>International TV Shows, Reality TV</td>\n",
       "      <td>Amid project pitfalls and a pandemic, besties-...</td>\n",
       "      <td>Reality TV</td>\n",
       "    </tr>\n",
       "    <tr>\n",
       "      <th>225</th>\n",
       "      <td>s226</td>\n",
       "      <td>TV Show</td>\n",
       "      <td>Open Your Eyes</td>\n",
       "      <td></td>\n",
       "      <td>Maria Wawreniuk, Ignacy Liss, Michał Sikorski,...</td>\n",
       "      <td></td>\n",
       "      <td>2021-08-25 00:00:00</td>\n",
       "      <td>2021</td>\n",
       "      <td>TV-MA</td>\n",
       "      <td>1 Season</td>\n",
       "      <td>International TV Shows, TV Dramas, TV Mysteries</td>\n",
       "      <td>After a tragic accident, an amnesiac teen trie...</td>\n",
       "      <td></td>\n",
       "    </tr>\n",
       "    <tr>\n",
       "      <th>226</th>\n",
       "      <td>s227</td>\n",
       "      <td>TV Show</td>\n",
       "      <td>Post Mortem: No One Dies in Skarnes</td>\n",
       "      <td></td>\n",
       "      <td>Kathrine Thorborg Johansen, Elias Holmen Søren...</td>\n",
       "      <td></td>\n",
       "      <td>2021-08-25 00:00:00</td>\n",
       "      <td>2021</td>\n",
       "      <td>TV-MA</td>\n",
       "      <td>1 Season</td>\n",
       "      <td>International TV Shows, TV Comedies, TV Dramas</td>\n",
       "      <td>She's back from the dead and has a newfound th...</td>\n",
       "      <td></td>\n",
       "    </tr>\n",
       "    <tr>\n",
       "      <th>227</th>\n",
       "      <td>s228</td>\n",
       "      <td>Movie</td>\n",
       "      <td>Really Love</td>\n",
       "      <td>Angel Kristi Williams</td>\n",
       "      <td>Kofi Siriboe, Yootha Wong-Loi-Sing, Michael Ea...</td>\n",
       "      <td>United States</td>\n",
       "      <td>2021-08-25 00:00:00</td>\n",
       "      <td>2020</td>\n",
       "      <td>TV-MA</td>\n",
       "      <td>95 min</td>\n",
       "      <td>Dramas, Independent Movies, Romantic Movies</td>\n",
       "      <td>A rising Black painter tries to break into a c...</td>\n",
       "      <td></td>\n",
       "    </tr>\n",
       "    <tr>\n",
       "      <th>228</th>\n",
       "      <td>s229</td>\n",
       "      <td>Movie</td>\n",
       "      <td>The November Man</td>\n",
       "      <td>Roger Donaldson</td>\n",
       "      <td>Pierce Brosnan, Luke Bracey, Olga Kurylenko, E...</td>\n",
       "      <td>United States, United Kingdom</td>\n",
       "      <td>2021-08-25 00:00:00</td>\n",
       "      <td>2014</td>\n",
       "      <td>R</td>\n",
       "      <td>108 min</td>\n",
       "      <td>Action &amp; Adventure</td>\n",
       "      <td>An ex-CIA agent emerges from retirement to pro...</td>\n",
       "      <td></td>\n",
       "    </tr>\n",
       "    <tr>\n",
       "      <th>229</th>\n",
       "      <td>s230</td>\n",
       "      <td>Movie</td>\n",
       "      <td>The Old Ways</td>\n",
       "      <td>Christopher Alender</td>\n",
       "      <td>Brigitte Kali Canales, Andrea Cortes, Julia Ve...</td>\n",
       "      <td>United States</td>\n",
       "      <td>2021-08-25 00:00:00</td>\n",
       "      <td>2020</td>\n",
       "      <td>TV-MA</td>\n",
       "      <td>90 min</td>\n",
       "      <td>Horror Movies</td>\n",
       "      <td>A reporter visits her birthplace in Veracruz f...</td>\n",
       "      <td></td>\n",
       "    </tr>\n",
       "    <tr>\n",
       "      <th>230</th>\n",
       "      <td>s231</td>\n",
       "      <td>Movie</td>\n",
       "      <td>The River Runner</td>\n",
       "      <td>Rush Sturges</td>\n",
       "      <td></td>\n",
       "      <td></td>\n",
       "      <td>2021-08-25 00:00:00</td>\n",
       "      <td>2021</td>\n",
       "      <td>TV-MA</td>\n",
       "      <td>86 min</td>\n",
       "      <td>Documentaries, Sports Movies</td>\n",
       "      <td>In this documentary, a kayaker sets out to bec...</td>\n",
       "      <td>Documentary Adventure</td>\n",
       "    </tr>\n",
       "    <tr>\n",
       "      <th>231</th>\n",
       "      <td>s232</td>\n",
       "      <td>Movie</td>\n",
       "      <td>The Water Man</td>\n",
       "      <td>David Oyelowo</td>\n",
       "      <td>David Oyelowo, Rosario Dawson, Lonnie Chavis, ...</td>\n",
       "      <td>United States</td>\n",
       "      <td>2021-08-25 00:00:00</td>\n",
       "      <td>2021</td>\n",
       "      <td>PG</td>\n",
       "      <td>92 min</td>\n",
       "      <td>Children &amp; Family Movies, Dramas</td>\n",
       "      <td>Desperate to save his ailing mother, 11-year-o...</td>\n",
       "      <td></td>\n",
       "    </tr>\n",
       "    <tr>\n",
       "      <th>232</th>\n",
       "      <td>s233</td>\n",
       "      <td>TV Show</td>\n",
       "      <td>Wheel of Fortune</td>\n",
       "      <td></td>\n",
       "      <td>Pat Sajak, Vanna White</td>\n",
       "      <td>United States</td>\n",
       "      <td>2021-08-25 00:00:00</td>\n",
       "      <td>2019</td>\n",
       "      <td>TV-G</td>\n",
       "      <td>3 Seasons</td>\n",
       "      <td>Reality TV</td>\n",
       "      <td>Pat Sajak and Vanna White host one of TV's mos...</td>\n",
       "      <td></td>\n",
       "    </tr>\n",
       "    <tr>\n",
       "      <th>233</th>\n",
       "      <td>s234</td>\n",
       "      <td>Movie</td>\n",
       "      <td>Count Me In</td>\n",
       "      <td>Mark Lo</td>\n",
       "      <td></td>\n",
       "      <td>United Kingdom</td>\n",
       "      <td>2021-08-24 00:00:00</td>\n",
       "      <td>2021</td>\n",
       "      <td>TV-MA</td>\n",
       "      <td>82 min</td>\n",
       "      <td>Documentaries, Music &amp; Musicals</td>\n",
       "      <td>This documentary features some of rock's great...</td>\n",
       "      <td></td>\n",
       "    </tr>\n",
       "    <tr>\n",
       "      <th>234</th>\n",
       "      <td>s235</td>\n",
       "      <td>TV Show</td>\n",
       "      <td>Oggy Oggy</td>\n",
       "      <td></td>\n",
       "      <td></td>\n",
       "      <td></td>\n",
       "      <td>2021-08-24 00:00:00</td>\n",
       "      <td>2021</td>\n",
       "      <td>TV-Y</td>\n",
       "      <td>1 Season</td>\n",
       "      <td>Kids' TV, TV Comedies</td>\n",
       "      <td>Join adorable kitten Oggy and his cast of cat ...</td>\n",
       "      <td></td>\n",
       "    </tr>\n",
       "    <tr>\n",
       "      <th>235</th>\n",
       "      <td>s236</td>\n",
       "      <td>Movie</td>\n",
       "      <td>Untold: Caitlyn Jenner</td>\n",
       "      <td>Crystal Moselle</td>\n",
       "      <td></td>\n",
       "      <td></td>\n",
       "      <td>2021-08-24 00:00:00</td>\n",
       "      <td>2021</td>\n",
       "      <td>TV-PG</td>\n",
       "      <td>70 min</td>\n",
       "      <td>Documentaries, LGBTQ Movies, Sports Movies</td>\n",
       "      <td>Caitlyn Jenner's unlikely path to Olympic glor...</td>\n",
       "      <td>Drama/Biography</td>\n",
       "    </tr>\n",
       "    <tr>\n",
       "      <th>236</th>\n",
       "      <td>s237</td>\n",
       "      <td>Movie</td>\n",
       "      <td>Boomika</td>\n",
       "      <td>Rathindran R Prasad</td>\n",
       "      <td>Aishwarya Rajesh, Vidhu, Surya Ganapathy, Madh...</td>\n",
       "      <td></td>\n",
       "      <td>2021-08-23 00:00:00</td>\n",
       "      <td>2021</td>\n",
       "      <td>TV-14</td>\n",
       "      <td>122 min</td>\n",
       "      <td>Horror Movies, International Movies, Thrillers</td>\n",
       "      <td>Paranormal activity at a lush, abandoned prope...</td>\n",
       "      <td></td>\n",
       "    </tr>\n",
       "    <tr>\n",
       "      <th>237</th>\n",
       "      <td>s238</td>\n",
       "      <td>Movie</td>\n",
       "      <td>Boomika (Hindi)</td>\n",
       "      <td>Rathindran R Prasad</td>\n",
       "      <td>Aishwarya Rajesh, Vidhu, Surya Ganapathy, Madh...</td>\n",
       "      <td></td>\n",
       "      <td>2021-08-23 00:00:00</td>\n",
       "      <td>2021</td>\n",
       "      <td>TV-14</td>\n",
       "      <td>122 min</td>\n",
       "      <td>Horror Movies, International Movies, Thrillers</td>\n",
       "      <td>Paranormal activity at a lush, abandoned prope...</td>\n",
       "      <td></td>\n",
       "    </tr>\n",
       "    <tr>\n",
       "      <th>238</th>\n",
       "      <td>s239</td>\n",
       "      <td>Movie</td>\n",
       "      <td>Boomika (Malayalam)</td>\n",
       "      <td>Rathindran R Prasad</td>\n",
       "      <td>Aishwarya Rajesh, Vidhu, Surya Ganapathy, Madh...</td>\n",
       "      <td></td>\n",
       "      <td>2021-08-23 00:00:00</td>\n",
       "      <td>2021</td>\n",
       "      <td>TV-14</td>\n",
       "      <td>122 min</td>\n",
       "      <td>Horror Movies, International Movies, Thrillers</td>\n",
       "      <td>Paranormal activity at a lush, abandoned prope...</td>\n",
       "      <td></td>\n",
       "    </tr>\n",
       "    <tr>\n",
       "      <th>239</th>\n",
       "      <td>s240</td>\n",
       "      <td>Movie</td>\n",
       "      <td>Boomika (Telugu)</td>\n",
       "      <td>Rathindran R Prasad</td>\n",
       "      <td>Aishwarya Rajesh, Vidhu, Surya Ganapathy, Madh...</td>\n",
       "      <td></td>\n",
       "      <td>2021-08-23 00:00:00</td>\n",
       "      <td>2021</td>\n",
       "      <td>TV-14</td>\n",
       "      <td>122 min</td>\n",
       "      <td>Horror Movies, International Movies, Thrillers</td>\n",
       "      <td>Paranormal activity at a lush, abandoned prope...</td>\n",
       "      <td></td>\n",
       "    </tr>\n",
       "    <tr>\n",
       "      <th>240</th>\n",
       "      <td>s241</td>\n",
       "      <td>Movie</td>\n",
       "      <td>The Witcher: Nightmare of the Wolf</td>\n",
       "      <td>Han Kwang Il</td>\n",
       "      <td>Theo James, Mary McDonnell, Lara Pulver, Graha...</td>\n",
       "      <td></td>\n",
       "      <td>2021-08-23 00:00:00</td>\n",
       "      <td>2021</td>\n",
       "      <td>TV-MA</td>\n",
       "      <td>84 min</td>\n",
       "      <td>Action &amp; Adventure, Anime Features</td>\n",
       "      <td>Escaping from poverty to become a witcher, Ves...</td>\n",
       "      <td></td>\n",
       "    </tr>\n",
       "    <tr>\n",
       "      <th>241</th>\n",
       "      <td>s242</td>\n",
       "      <td>TV Show</td>\n",
       "      <td>Manifest</td>\n",
       "      <td></td>\n",
       "      <td>Melissa Roxburgh, Josh Dallas, Athena Karkanis...</td>\n",
       "      <td>United States</td>\n",
       "      <td>2021-08-21 00:00:00</td>\n",
       "      <td>2021</td>\n",
       "      <td>TV-14</td>\n",
       "      <td>3 Seasons</td>\n",
       "      <td>TV Dramas, TV Mysteries, TV Sci-Fi &amp; Fantasy</td>\n",
       "      <td>When a plane mysteriously lands years after ta...</td>\n",
       "      <td>Sci-Fi.</td>\n",
       "    </tr>\n",
       "  </tbody>\n",
       "</table>\n",
       "</div>"
      ],
      "text/plain": [
       "    show_id     type                                          title  \\\n",
       "220    s221  TV Show                                 Family Reunion   \n",
       "221    s222    Movie    Bob Ross: Happy Accidents, Betrayal & Greed   \n",
       "222    s223  TV Show                                      Clickbait   \n",
       "223    s224  TV Show  John of God: The Crimes of a Spiritual Healer   \n",
       "224    s225  TV Show                                 Motel Makeover   \n",
       "225    s226  TV Show                                 Open Your Eyes   \n",
       "226    s227  TV Show            Post Mortem: No One Dies in Skarnes   \n",
       "227    s228    Movie                                    Really Love   \n",
       "228    s229    Movie                               The November Man   \n",
       "229    s230    Movie                                   The Old Ways   \n",
       "230    s231    Movie                               The River Runner   \n",
       "231    s232    Movie                                  The Water Man   \n",
       "232    s233  TV Show                               Wheel of Fortune   \n",
       "233    s234    Movie                                    Count Me In   \n",
       "234    s235  TV Show                                      Oggy Oggy   \n",
       "235    s236    Movie                         Untold: Caitlyn Jenner   \n",
       "236    s237    Movie                                        Boomika   \n",
       "237    s238    Movie                                Boomika (Hindi)   \n",
       "238    s239    Movie                            Boomika (Malayalam)   \n",
       "239    s240    Movie                               Boomika (Telugu)   \n",
       "240    s241    Movie             The Witcher: Nightmare of the Wolf   \n",
       "241    s242  TV Show                                       Manifest   \n",
       "\n",
       "                           director  \\\n",
       "220                                   \n",
       "221                     Joshua Rofé   \n",
       "222                   Brad Anderson   \n",
       "223  Mauricio Dias, Tatiana Villela   \n",
       "224                                   \n",
       "225                                   \n",
       "226                                   \n",
       "227           Angel Kristi Williams   \n",
       "228                 Roger Donaldson   \n",
       "229             Christopher Alender   \n",
       "230                    Rush Sturges   \n",
       "231                   David Oyelowo   \n",
       "232                                   \n",
       "233                         Mark Lo   \n",
       "234                                   \n",
       "235                 Crystal Moselle   \n",
       "236             Rathindran R Prasad   \n",
       "237             Rathindran R Prasad   \n",
       "238             Rathindran R Prasad   \n",
       "239             Rathindran R Prasad   \n",
       "240                    Han Kwang Il   \n",
       "241                                   \n",
       "\n",
       "                                                  cast  \\\n",
       "220  Loretta Devine, Tia Mowry-Hardrict, Anthony Al...   \n",
       "221                                           Bob Ross   \n",
       "222  Zoe Kazan, Betty Gabriel, Adrian Grenier, Phoe...   \n",
       "223                                                      \n",
       "224                                                      \n",
       "225  Maria Wawreniuk, Ignacy Liss, Michał Sikorski,...   \n",
       "226  Kathrine Thorborg Johansen, Elias Holmen Søren...   \n",
       "227  Kofi Siriboe, Yootha Wong-Loi-Sing, Michael Ea...   \n",
       "228  Pierce Brosnan, Luke Bracey, Olga Kurylenko, E...   \n",
       "229  Brigitte Kali Canales, Andrea Cortes, Julia Ve...   \n",
       "230                                                      \n",
       "231  David Oyelowo, Rosario Dawson, Lonnie Chavis, ...   \n",
       "232                             Pat Sajak, Vanna White   \n",
       "233                                                      \n",
       "234                                                      \n",
       "235                                                      \n",
       "236  Aishwarya Rajesh, Vidhu, Surya Ganapathy, Madh...   \n",
       "237  Aishwarya Rajesh, Vidhu, Surya Ganapathy, Madh...   \n",
       "238  Aishwarya Rajesh, Vidhu, Surya Ganapathy, Madh...   \n",
       "239  Aishwarya Rajesh, Vidhu, Surya Ganapathy, Madh...   \n",
       "240  Theo James, Mary McDonnell, Lara Pulver, Graha...   \n",
       "241  Melissa Roxburgh, Josh Dallas, Athena Karkanis...   \n",
       "\n",
       "                           country           date_added  release_year rating  \\\n",
       "220                  United States  2021-08-26 00:00:00          2021  TV-PG   \n",
       "221                                 2021-08-25 00:00:00          2021  TV-14   \n",
       "222                                 2021-08-25 00:00:00          2021  TV-MA   \n",
       "223                                 2021-08-25 00:00:00          2021  TV-MA   \n",
       "224                                 2021-08-25 00:00:00          2021  TV-14   \n",
       "225                                 2021-08-25 00:00:00          2021  TV-MA   \n",
       "226                                 2021-08-25 00:00:00          2021  TV-MA   \n",
       "227                  United States  2021-08-25 00:00:00          2020  TV-MA   \n",
       "228  United States, United Kingdom  2021-08-25 00:00:00          2014      R   \n",
       "229                  United States  2021-08-25 00:00:00          2020  TV-MA   \n",
       "230                                 2021-08-25 00:00:00          2021  TV-MA   \n",
       "231                  United States  2021-08-25 00:00:00          2021     PG   \n",
       "232                  United States  2021-08-25 00:00:00          2019   TV-G   \n",
       "233                 United Kingdom  2021-08-24 00:00:00          2021  TV-MA   \n",
       "234                                 2021-08-24 00:00:00          2021   TV-Y   \n",
       "235                                 2021-08-24 00:00:00          2021  TV-PG   \n",
       "236                                 2021-08-23 00:00:00          2021  TV-14   \n",
       "237                                 2021-08-23 00:00:00          2021  TV-14   \n",
       "238                                 2021-08-23 00:00:00          2021  TV-14   \n",
       "239                                 2021-08-23 00:00:00          2021  TV-14   \n",
       "240                                 2021-08-23 00:00:00          2021  TV-MA   \n",
       "241                  United States  2021-08-21 00:00:00          2021  TV-14   \n",
       "\n",
       "      duration                                          listed_in  \\\n",
       "220  4 Seasons                              Kids' TV, TV Comedies   \n",
       "221     93 min                                      Documentaries   \n",
       "222   1 Season            Crime TV Shows, TV Dramas, TV Mysteries   \n",
       "223   1 Season  Crime TV Shows, Docuseries, International TV S...   \n",
       "224   1 Season                 International TV Shows, Reality TV   \n",
       "225   1 Season    International TV Shows, TV Dramas, TV Mysteries   \n",
       "226   1 Season     International TV Shows, TV Comedies, TV Dramas   \n",
       "227     95 min        Dramas, Independent Movies, Romantic Movies   \n",
       "228    108 min                                 Action & Adventure   \n",
       "229     90 min                                      Horror Movies   \n",
       "230     86 min                       Documentaries, Sports Movies   \n",
       "231     92 min                   Children & Family Movies, Dramas   \n",
       "232  3 Seasons                                         Reality TV   \n",
       "233     82 min                    Documentaries, Music & Musicals   \n",
       "234   1 Season                              Kids' TV, TV Comedies   \n",
       "235     70 min         Documentaries, LGBTQ Movies, Sports Movies   \n",
       "236    122 min     Horror Movies, International Movies, Thrillers   \n",
       "237    122 min     Horror Movies, International Movies, Thrillers   \n",
       "238    122 min     Horror Movies, International Movies, Thrillers   \n",
       "239    122 min     Horror Movies, International Movies, Thrillers   \n",
       "240     84 min                 Action & Adventure, Anime Features   \n",
       "241  3 Seasons       TV Dramas, TV Mysteries, TV Sci-Fi & Fantasy   \n",
       "\n",
       "                                           description                  genre  \n",
       "220  When the McKellan family moves from Seattle to...                         \n",
       "221  Bob Ross brought joy to millions as the world’...                         \n",
       "222  When family man Nick Brewer is abducted in a c...                         \n",
       "223  Idolized medium João Teixeira de Faria rises t...                         \n",
       "224  Amid project pitfalls and a pandemic, besties-...             Reality TV  \n",
       "225  After a tragic accident, an amnesiac teen trie...                         \n",
       "226  She's back from the dead and has a newfound th...                         \n",
       "227  A rising Black painter tries to break into a c...                         \n",
       "228  An ex-CIA agent emerges from retirement to pro...                         \n",
       "229  A reporter visits her birthplace in Veracruz f...                         \n",
       "230  In this documentary, a kayaker sets out to bec...  Documentary Adventure  \n",
       "231  Desperate to save his ailing mother, 11-year-o...                         \n",
       "232  Pat Sajak and Vanna White host one of TV's mos...                         \n",
       "233  This documentary features some of rock's great...                         \n",
       "234  Join adorable kitten Oggy and his cast of cat ...                         \n",
       "235  Caitlyn Jenner's unlikely path to Olympic glor...        Drama/Biography  \n",
       "236  Paranormal activity at a lush, abandoned prope...                         \n",
       "237  Paranormal activity at a lush, abandoned prope...                         \n",
       "238  Paranormal activity at a lush, abandoned prope...                         \n",
       "239  Paranormal activity at a lush, abandoned prope...                         \n",
       "240  Escaping from poverty to become a witcher, Ves...                         \n",
       "241  When a plane mysteriously lands years after ta...                Sci-Fi.  "
      ]
     },
     "execution_count": 144,
     "metadata": {},
     "output_type": "execute_result"
    }
   ],
   "source": [
    "trunc_df.iloc[220:242]"
   ]
  },
  {
   "cell_type": "code",
   "execution_count": null,
   "metadata": {},
   "outputs": [],
   "source": []
  }
 ],
 "metadata": {
  "kernelspec": {
   "display_name": "Python 3",
   "language": "python",
   "name": "python3"
  },
  "language_info": {
   "codemirror_mode": {
    "name": "ipython",
    "version": 3
   },
   "file_extension": ".py",
   "mimetype": "text/x-python",
   "name": "python",
   "nbconvert_exporter": "python",
   "pygments_lexer": "ipython3",
   "version": "3.7.6"
  }
 },
 "nbformat": 4,
 "nbformat_minor": 4
}
